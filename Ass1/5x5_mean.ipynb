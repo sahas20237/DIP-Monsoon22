{
 "cells": [
  {
   "cell_type": "code",
   "execution_count": 2,
   "id": "a284dba7-f65e-4660-b955-1889fdd69b71",
   "metadata": {},
   "outputs": [],
   "source": [
    "################ 5x5 mean ################"
   ]
  },
  {
   "cell_type": "code",
   "execution_count": 3,
   "id": "34bce13b-f6ed-4b51-8e58-0a790f442ef5",
   "metadata": {},
   "outputs": [],
   "source": [
    "#General imports\n",
    "import cv2\n",
    "import numpy as np"
   ]
  },
  {
   "cell_type": "code",
   "execution_count": 4,
   "id": "5c2df3e8-f415-4a49-ba89-3011c46a0f4a",
   "metadata": {},
   "outputs": [],
   "source": [
    "#Reading the image and defining it's properties\n",
    "input_img = cv2.imread('ruler.512_2.tiff')\n",
    "l1, b1, c1 = input_img.shape\n",
    "\n",
    "# print(l1, b1, c1)"
   ]
  },
  {
   "cell_type": "code",
   "execution_count": 5,
   "id": "013f37c8-fe27-4654-80d6-41e66215643d",
   "metadata": {},
   "outputs": [],
   "source": [
    "#Making the filter\n",
    "filter5x5 = np.array([(1, 1, 1, 1, 1), \n",
    "                      (1, 1, 1, 1, 1), \n",
    "                      (1, 1, 1, 1, 1), \n",
    "                      (1, 1, 1, 1, 1), \n",
    "                      (1, 1, 1, 1, 1)])*(1/25)\n",
    "l2, b2 = filter5x5.shape\n",
    "\n",
    "# print(filter5x5)\n",
    "# print(l2, b2)"
   ]
  },
  {
   "cell_type": "code",
   "execution_count": 6,
   "id": "109d97a1-de6b-4641-8d9a-cb2d1e685304",
   "metadata": {},
   "outputs": [],
   "source": [
    "#Converting image to Gray to get binary (0-255) matrix values\n",
    "gray_img = cv2.cvtColor(input_img, cv2.COLOR_BGR2GRAY)\n",
    "\n",
    "# print(gray_img)\n",
    "# print(len(gray_img), len(gray_img[0]))\n",
    "# cv2.imshow('Gray Image', gray_img)\n",
    "# cv2.waitKey(0)"
   ]
  },
  {
   "cell_type": "code",
   "execution_count": 7,
   "id": "2756e41c-54f8-4d1e-a613-018783af4343",
   "metadata": {},
   "outputs": [],
   "source": [
    "#Creating the padding matrix of zeros\n",
    "padding = np.zeros(((l1+l2-1), (b1+b2-1)))\n",
    "\n",
    "# print(padding)"
   ]
  },
  {
   "cell_type": "code",
   "execution_count": 8,
   "id": "762af8b3-96d0-4bc1-9a5a-9283b3746c90",
   "metadata": {},
   "outputs": [],
   "source": [
    "#Inserting binary values (0-255) in padding matrix\n",
    "for i in range(l1):\n",
    "    for j in range(b1):\n",
    "        padding[i+2, j+2] = gray_img[i, j]\n",
    "        \n",
    "# print(padding)"
   ]
  },
  {
   "cell_type": "code",
   "execution_count": 9,
   "id": "57872080-6c16-48e6-bbff-c4bbcefef0b2",
   "metadata": {},
   "outputs": [
    {
     "data": {
      "text/plain": [
       "-1"
      ]
     },
     "execution_count": 9,
     "metadata": {},
     "output_type": "execute_result"
    }
   ],
   "source": [
    "#Mean filtering\n",
    "for i in range(l1):\n",
    "    for j in range(b1):\n",
    "        temp_box = padding[i:i+l2, j:j+b2]\n",
    "        filtered_tempbox = np.sum(temp_box*filter5x5)\n",
    "        gray_img[i, j] = filtered_tempbox\n",
    "        \n",
    "cv2.imshow('Final Output 5x5 Mean', gray_img)\n",
    "cv2.waitKey(0)"
   ]
  },
  {
   "cell_type": "code",
   "execution_count": null,
   "id": "e2b150db-dc4b-40e5-992f-02c096a7ae76",
   "metadata": {},
   "outputs": [],
   "source": []
  }
 ],
 "metadata": {
  "kernelspec": {
   "display_name": "Python 3 (ipykernel)",
   "language": "python",
   "name": "python3"
  },
  "language_info": {
   "codemirror_mode": {
    "name": "ipython",
    "version": 3
   },
   "file_extension": ".py",
   "mimetype": "text/x-python",
   "name": "python",
   "nbconvert_exporter": "python",
   "pygments_lexer": "ipython3",
   "version": "3.10.8"
  }
 },
 "nbformat": 4,
 "nbformat_minor": 5
}
