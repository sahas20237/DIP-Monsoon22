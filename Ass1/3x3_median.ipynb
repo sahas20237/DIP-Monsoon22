{
 "cells": [
  {
   "cell_type": "code",
   "execution_count": 9,
   "id": "4e148c82-ebe0-48b6-9be3-940544867ee2",
   "metadata": {},
   "outputs": [],
   "source": [
    "################ 3x3 median ################"
   ]
  },
  {
   "cell_type": "code",
   "execution_count": 10,
   "id": "372faafe-ae26-4aed-8db1-1efcc124be13",
   "metadata": {},
   "outputs": [],
   "source": [
    "#General imports\n",
    "import cv2\n",
    "import numpy as np"
   ]
  },
  {
   "cell_type": "code",
   "execution_count": 11,
   "id": "e82251ec-4d66-4461-a335-888f1dff8fef",
   "metadata": {
    "tags": []
   },
   "outputs": [],
   "source": [
    "#Reading the image and defining it's properties\n",
    "input_img = cv2.imread('ruler.512_2.tiff')\n",
    "l1, b1, c1 = input_img.shape\n",
    "\n",
    "# print(l1, b1, c1)"
   ]
  },
  {
   "cell_type": "code",
   "execution_count": 12,
   "id": "5d9953ef-a33c-4fdf-96ca-f6ef94345951",
   "metadata": {},
   "outputs": [],
   "source": [
    "#Making the filter\n",
    "filter3x3 = np.array([(0, 0, 0), \n",
    "                      (0, 0, 0), \n",
    "                      (0, 0, 0)])\n",
    "l2, b2 = filter3x3.shape\n",
    "\n",
    "# print(filter3x3)\n",
    "# print(l2, b2)"
   ]
  },
  {
   "cell_type": "code",
   "execution_count": 13,
   "id": "20197a11-da01-4e4c-b0d7-996a3d700d23",
   "metadata": {},
   "outputs": [],
   "source": [
    "#Converting image to Gray to get binary (0-255) matrix values\n",
    "gray_img = cv2.cvtColor(input_img, cv2.COLOR_BGR2GRAY)\n",
    "\n",
    "# print(gray_img)\n",
    "# print(len(gray_img), len(gray_img[0]))\n",
    "# cv2.imshow('Gray Image', gray_img)\n",
    "# cv2.waitKey(0)"
   ]
  },
  {
   "cell_type": "code",
   "execution_count": 14,
   "id": "a02f0799-ff91-447b-8502-161a95d84def",
   "metadata": {},
   "outputs": [],
   "source": [
    "#Creating the padding matrix of zeros\n",
    "padding = np.zeros(((l1+l2-1), (b1+b2-1)))\n",
    "\n",
    "# print(padding)"
   ]
  },
  {
   "cell_type": "code",
   "execution_count": 15,
   "id": "c4917622-fb77-4606-b9e9-72bb8d8dd94c",
   "metadata": {},
   "outputs": [],
   "source": [
    "#Inserting binary values (0-255) in padding matrix\n",
    "for i in range(l1):\n",
    "    for j in range(b1):\n",
    "        padding[i+1, j+1] = gray_img[i, j]\n",
    "        \n",
    "# print(padding)"
   ]
  },
  {
   "cell_type": "code",
   "execution_count": 18,
   "id": "eaf199fa-c4df-4781-9de8-3ac206c7a8cd",
   "metadata": {},
   "outputs": [
    {
     "data": {
      "text/plain": [
       "-1"
      ]
     },
     "execution_count": 18,
     "metadata": {},
     "output_type": "execute_result"
    }
   ],
   "source": [
    "#Median filtering\n",
    "for i in range(l1):\n",
    "    for j in range(b1):\n",
    "        temp_box = padding[i:i+l2, j:j+b2]\n",
    "        filtered_tempbox = np.median(temp_box)\n",
    "        gray_img[i, j] = filtered_tempbox\n",
    "        \n",
    "cv2.imshow('Final Output 3x3 Median', gray_img)\n",
    "cv2.waitKey(0)"
   ]
  },
  {
   "cell_type": "code",
   "execution_count": null,
   "id": "4c003dd3-fb57-4dea-b45b-b64c54b66358",
   "metadata": {},
   "outputs": [],
   "source": []
  }
 ],
 "metadata": {
  "kernelspec": {
   "display_name": "Python 3 (ipykernel)",
   "language": "python",
   "name": "python3"
  },
  "language_info": {
   "codemirror_mode": {
    "name": "ipython",
    "version": 3
   },
   "file_extension": ".py",
   "mimetype": "text/x-python",
   "name": "python",
   "nbconvert_exporter": "python",
   "pygments_lexer": "ipython3",
   "version": "3.10.8"
  }
 },
 "nbformat": 4,
 "nbformat_minor": 5
}
